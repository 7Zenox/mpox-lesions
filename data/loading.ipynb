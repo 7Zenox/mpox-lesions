{
 "cells": [
  {
   "cell_type": "code",
   "execution_count": 23,
   "metadata": {},
   "outputs": [
    {
     "name": "stdout",
     "output_type": "stream",
     "text": [
      "Downloading dataset from Kaggle...\n",
      "Path to dataset files: /Users/vasu7400/.cache/kagglehub/datasets/joydippaul/mpox-skin-lesion-dataset-version-20-msld-v20/versions/4\n"
     ]
    }
   ],
   "source": [
    "import os\n",
    "import kagglehub\n",
    "import pandas as pd\n",
    "import tensorflow as tf\n",
    "\n",
    "# Download latest dataset version\n",
    "print(\"Downloading dataset from Kaggle...\")\n",
    "path = kagglehub.dataset_download(\"joydippaul/mpox-skin-lesion-dataset-version-20-msld-v20\")\n",
    "print(\"Path to dataset files:\", path)\n"
   ]
  },
  {
   "cell_type": "code",
   "execution_count": 24,
   "metadata": {},
   "outputs": [
    {
     "name": "stdout",
     "output_type": "stream",
     "text": [
      "Loading data for fold 1...\n",
      "Loading data for fold 2...\n",
      "Loading data for fold 3...\n",
      "Loading data for fold 4...\n",
      "Loading data for fold 5...\n",
      "Data loading and preprocessing complete.\n"
     ]
    }
   ],
   "source": [
    "# Define paths to dataset folders\n",
    "data_path = path\n",
    "original_images_path = os.path.join(data_path, \"Original Images\", \"Original Images\", \"FOLDS\")\n",
    "augmented_images_path = os.path.join(data_path, \"Augmented Images\", \"Augmented Images\", \"FOLDS_AUG\")\n",
    "\n",
    "# Define image dimensions\n",
    "IMG_HEIGHT = 224\n",
    "IMG_WIDTH = 224\n",
    "BATCH_SIZE = 32\n",
    "\n",
    "# Class names\n",
    "CLASS_NAMES = [\"Chickenpox\", \"Cowpox\", \"Healthy\", \"HFMD\", \"Measles\", \"Monkeypox\"]\n",
    "\n",
    "# Helper function to load image paths and labels\n",
    "def load_images_from_directory(base_path, fold, dataset_type, augmented=False):\n",
    "    images = []\n",
    "    for class_index, class_name in enumerate(CLASS_NAMES):\n",
    "        folder_path = os.path.join(\n",
    "            base_path,\n",
    "            f\"fold{fold}_AUG/train/{class_name}\" if augmented else f\"fold{fold}/{dataset_type}/{class_name}\"\n",
    "        )\n",
    "        if not os.path.exists(folder_path):\n",
    "            print(f\"Warning: Path does not exist: {folder_path}\")\n",
    "            continue\n",
    "\n",
    "        for img_name in os.listdir(folder_path):\n",
    "            img_path = os.path.join(folder_path, img_name)\n",
    "            if os.path.isfile(img_path):\n",
    "                images.append((img_path, class_index))\n",
    "    return images\n",
    "\n",
    "# Load original and augmented data\n",
    "def load_data():\n",
    "    datasets = {}\n",
    "    for fold in range(1, 6):\n",
    "        print(f\"Loading data for fold {fold}...\")\n",
    "\n",
    "        # Load original data\n",
    "        datasets[f\"fold{fold}_train\"] = load_images_from_directory(original_images_path, fold, \"train\")\n",
    "        datasets[f\"fold{fold}_val\"] = load_images_from_directory(original_images_path, fold, \"valid\")\n",
    "        datasets[f\"fold{fold}_test\"] = load_images_from_directory(original_images_path, fold, \"test\")\n",
    "\n",
    "        # Load augmented data\n",
    "        datasets[f\"fold{fold}_train_aug\"] = load_images_from_directory(augmented_images_path, fold, \"train\", augmented=True)\n",
    "\n",
    "    return datasets\n",
    "\n",
    "# Define function to preprocess and create TensorFlow datasets\n",
    "def preprocess_data(data, batch_size=BATCH_SIZE):\n",
    "    if not data:\n",
    "        raise ValueError(\"Dataset is empty. Ensure the data paths and structure are correct.\")\n",
    "\n",
    "    file_paths, labels = zip(*data)\n",
    "\n",
    "    dataset = tf.data.Dataset.from_tensor_slices((list(file_paths), list(labels)))\n",
    "\n",
    "    def parse_image(file_path, label):\n",
    "        image = tf.io.read_file(file_path)\n",
    "        image = tf.image.decode_jpeg(image, channels=3)\n",
    "        image = tf.image.resize(image, [IMG_HEIGHT, IMG_WIDTH])\n",
    "        image = image / 255.0  # Normalize to [0,1]\n",
    "        return image, label\n",
    "\n",
    "    dataset = dataset.map(parse_image, num_parallel_calls=tf.data.AUTOTUNE)\n",
    "    dataset = dataset.shuffle(buffer_size=len(data)).batch(batch_size).prefetch(buffer_size=tf.data.AUTOTUNE)\n",
    "\n",
    "    return dataset\n",
    "\n",
    "# Load datasets\n",
    "datasets = load_data()\n",
    "\n",
    "# Example: Preparing fold 1 train and validation datasets\n",
    "try:\n",
    "    fold1_train = preprocess_data(datasets['fold1_train'])\n",
    "    fold1_val = preprocess_data(datasets['fold1_val'])\n",
    "    print(\"Data loading and preprocessing complete.\")\n",
    "except ValueError as e:\n",
    "    print(e)\n"
   ]
  }
 ],
 "metadata": {
  "kernelspec": {
   "display_name": "venv",
   "language": "python",
   "name": "python3"
  },
  "language_info": {
   "codemirror_mode": {
    "name": "ipython",
    "version": 3
   },
   "file_extension": ".py",
   "mimetype": "text/x-python",
   "name": "python",
   "nbconvert_exporter": "python",
   "pygments_lexer": "ipython3",
   "version": "3.11.6"
  }
 },
 "nbformat": 4,
 "nbformat_minor": 2
}
